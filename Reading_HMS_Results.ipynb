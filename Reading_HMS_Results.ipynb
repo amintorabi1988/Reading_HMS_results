{
 "cells": [
  {
   "cell_type": "code",
   "execution_count": 1,
   "id": "2049bafb-dc4d-4cd5-80bc-15f6a3b36f6f",
   "metadata": {},
   "outputs": [
    {
     "name": "stdout",
     "output_type": "stream",
     "text": [
      "['G:\\\\2022\\\\ChaddsFord\\\\22350025_Hawk_Mountain_Dam\\\\03_SEProducts\\\\02-Calcs\\\\HEC-HMS\\\\Hawk_Moutain_Dam\\\\results\\\\RUN_Ex_1000_year.results', 'G:\\\\2022\\\\ChaddsFord\\\\22350025_Hawk_Mountain_Dam\\\\03_SEProducts\\\\02-Calcs\\\\HEC-HMS\\\\Hawk_Moutain_Dam\\\\results\\\\RUN_Ex_100_year.results', 'G:\\\\2022\\\\ChaddsFord\\\\22350025_Hawk_Mountain_Dam\\\\03_SEProducts\\\\02-Calcs\\\\HEC-HMS\\\\Hawk_Moutain_Dam\\\\results\\\\RUN_Ex_10_year.results', 'G:\\\\2022\\\\ChaddsFord\\\\22350025_Hawk_Mountain_Dam\\\\03_SEProducts\\\\02-Calcs\\\\HEC-HMS\\\\Hawk_Moutain_Dam\\\\results\\\\RUN_Ex_12_hr_Local.results', 'G:\\\\2022\\\\ChaddsFord\\\\22350025_Hawk_Mountain_Dam\\\\03_SEProducts\\\\02-Calcs\\\\HEC-HMS\\\\Hawk_Moutain_Dam\\\\results\\\\RUN_Ex_12_hr_Tropical.results', 'G:\\\\2022\\\\ChaddsFord\\\\22350025_Hawk_Mountain_Dam\\\\03_SEProducts\\\\02-Calcs\\\\HEC-HMS\\\\Hawk_Moutain_Dam\\\\results\\\\RUN_Ex_200_year.results', 'G:\\\\2022\\\\ChaddsFord\\\\22350025_Hawk_Mountain_Dam\\\\03_SEProducts\\\\02-Calcs\\\\HEC-HMS\\\\Hawk_Moutain_Dam\\\\results\\\\RUN_Ex_24_hr_Local.results', 'G:\\\\2022\\\\ChaddsFord\\\\22350025_Hawk_Mountain_Dam\\\\03_SEProducts\\\\02-Calcs\\\\HEC-HMS\\\\Hawk_Moutain_Dam\\\\results\\\\RUN_Ex_25_year.results', 'G:\\\\2022\\\\ChaddsFord\\\\22350025_Hawk_Mountain_Dam\\\\03_SEProducts\\\\02-Calcs\\\\HEC-HMS\\\\Hawk_Moutain_Dam\\\\results\\\\RUN_Ex_2_hr_Synthetic.results', 'G:\\\\2022\\\\ChaddsFord\\\\22350025_Hawk_Mountain_Dam\\\\03_SEProducts\\\\02-Calcs\\\\HEC-HMS\\\\Hawk_Moutain_Dam\\\\results\\\\RUN_Ex_2_year.results', 'G:\\\\2022\\\\ChaddsFord\\\\22350025_Hawk_Mountain_Dam\\\\03_SEProducts\\\\02-Calcs\\\\HEC-HMS\\\\Hawk_Moutain_Dam\\\\results\\\\RUN_Ex_3_hr_Local.results', 'G:\\\\2022\\\\ChaddsFord\\\\22350025_Hawk_Mountain_Dam\\\\03_SEProducts\\\\02-Calcs\\\\HEC-HMS\\\\Hawk_Moutain_Dam\\\\results\\\\RUN_Ex_500_year.results', 'G:\\\\2022\\\\ChaddsFord\\\\22350025_Hawk_Mountain_Dam\\\\03_SEProducts\\\\02-Calcs\\\\HEC-HMS\\\\Hawk_Moutain_Dam\\\\results\\\\RUN_Ex_50_year.results', 'G:\\\\2022\\\\ChaddsFord\\\\22350025_Hawk_Mountain_Dam\\\\03_SEProducts\\\\02-Calcs\\\\HEC-HMS\\\\Hawk_Moutain_Dam\\\\results\\\\RUN_Ex_5_year.results', 'G:\\\\2022\\\\ChaddsFord\\\\22350025_Hawk_Mountain_Dam\\\\03_SEProducts\\\\02-Calcs\\\\HEC-HMS\\\\Hawk_Moutain_Dam\\\\results\\\\RUN_Ex_6_hr_Local.results']\n"
     ]
    }
   ],
   "source": [
    "import re\n",
    "import os\n",
    "\n",
    "path = \"G:\\\\2022\\\\ChaddsFord\\\\22350025_Hawk_Mountain_Dam\\\\03_SEProducts\\\\02-Calcs\\\\HEC-HMS\\\\Hawk_Moutain_Dam\\\\results\\\\\"\n",
    "# print(path+'\\RUN_Ex_10_year.results')\n",
    "\n",
    "dir_list = os.listdir(path)\n",
    "all_path = []\n",
    "dir_list_selected = []\n",
    "\n",
    "for names in dir_list:\n",
    "    if re.search(r'\\.results$', names):\n",
    "        all_path.append(path + names)\n",
    "        dir_list_selected.append(names)\n",
    "print(all_path)\n",
    "\n"
   ]
  },
  {
   "cell_type": "code",
   "execution_count": 37,
   "id": "636659ef-0a27-4ddf-a29c-4e3222584d34",
   "metadata": {},
   "outputs": [
    {
     "name": "stdout",
     "output_type": "stream",
     "text": [
      "{'RUN_Ex_1000_year.results- Maximum Inflow': '986.3469724', 'RUN_Ex_1000_year.results- Maximum Outflow': '938.7667996', 'RUN_Ex_1000_year.results- Maximum Pool Elevation': '829.9009222', 'RUN_Ex_100_year.results- Maximum Inflow': '986.3469724', 'RUN_Ex_100_year.results- Maximum Outflow': '938.7667996', 'RUN_Ex_100_year.results- Maximum Pool Elevation': '829.9009222', 'RUN_Ex_10_year.results- Maximum Inflow': '986.3469724', 'RUN_Ex_10_year.results- Maximum Outflow': '938.7667996', 'RUN_Ex_10_year.results- Maximum Pool Elevation': '829.9009222', 'RUN_Ex_12_hr_Local.results- Maximum Inflow': '986.3469724', 'RUN_Ex_12_hr_Local.results- Maximum Outflow': '938.7667996', 'RUN_Ex_12_hr_Local.results- Maximum Pool Elevation': '829.9009222', 'RUN_Ex_12_hr_Tropical.results- Maximum Inflow': '986.3469724', 'RUN_Ex_12_hr_Tropical.results- Maximum Outflow': '938.7667996', 'RUN_Ex_12_hr_Tropical.results- Maximum Pool Elevation': '829.9009222', 'RUN_Ex_200_year.results- Maximum Inflow': '986.3469724', 'RUN_Ex_200_year.results- Maximum Outflow': '938.7667996', 'RUN_Ex_200_year.results- Maximum Pool Elevation': '829.9009222', 'RUN_Ex_24_hr_Local.results- Maximum Inflow': '986.3469724', 'RUN_Ex_24_hr_Local.results- Maximum Outflow': '938.7667996', 'RUN_Ex_24_hr_Local.results- Maximum Pool Elevation': '829.9009222', 'RUN_Ex_25_year.results- Maximum Inflow': '986.3469724', 'RUN_Ex_25_year.results- Maximum Outflow': '938.7667996', 'RUN_Ex_25_year.results- Maximum Pool Elevation': '829.9009222', 'RUN_Ex_2_hr_Synthetic.results- Maximum Inflow': '986.3469724', 'RUN_Ex_2_hr_Synthetic.results- Maximum Outflow': '938.7667996', 'RUN_Ex_2_hr_Synthetic.results- Maximum Pool Elevation': '829.9009222', 'RUN_Ex_2_year.results- Maximum Inflow': '986.3469724', 'RUN_Ex_2_year.results- Maximum Outflow': '938.7667996', 'RUN_Ex_2_year.results- Maximum Pool Elevation': '829.9009222', 'RUN_Ex_3_hr_Local.results- Maximum Inflow': '986.3469724', 'RUN_Ex_3_hr_Local.results- Maximum Outflow': '938.7667996', 'RUN_Ex_3_hr_Local.results- Maximum Pool Elevation': '829.9009222', 'RUN_Ex_500_year.results- Maximum Inflow': '986.3469724', 'RUN_Ex_500_year.results- Maximum Outflow': '938.7667996', 'RUN_Ex_500_year.results- Maximum Pool Elevation': '829.9009222', 'RUN_Ex_50_year.results- Maximum Inflow': '986.3469724', 'RUN_Ex_50_year.results- Maximum Outflow': '938.7667996', 'RUN_Ex_50_year.results- Maximum Pool Elevation': '829.9009222', 'RUN_Ex_5_year.results- Maximum Inflow': '986.3469724', 'RUN_Ex_5_year.results- Maximum Outflow': '938.7667996', 'RUN_Ex_5_year.results- Maximum Pool Elevation': '829.9009222', 'RUN_Ex_6_hr_Local.results- Maximum Inflow': '986.3469724', 'RUN_Ex_6_hr_Local.results- Maximum Outflow': '938.7667996', 'RUN_Ex_6_hr_Local.results- Maximum Pool Elevation': '829.9009222'}\n"
     ]
    }
   ],
   "source": [
    "pattern1 = r'\"(Maximum Inflow)\" value=\"(\\d*\\.\\d*)\"'\n",
    "pattern2 = r'\"(Maximum Outflow)\" value=\"(\\d*\\.\\d*)\"'\n",
    "pattern3 = r'\"(Maximum Pool Elevation)\" value=\"(\\d*\\.\\d*)\"'\n",
    "# print(all_path[0])\n",
    "dict_values = {}\n",
    "for i in range(len(all_path)):\n",
    "    # print(dir_list_selected[i])\n",
    "    with open(all_path[0], 'r') as file:\n",
    "\n",
    "\n",
    "\n",
    "        lines = file.readlines()\n",
    "        # line_count = 0\n",
    "        for line in lines:\n",
    "\n",
    "            if (value1 := re.search(pattern1, line)):\n",
    "                    \n",
    "                    dict_values[f'{dir_list_selected[i]}- {value1.group(1)}'] = value1.group(2)\n",
    "            if (value2 := re.search(pattern2, line)):\n",
    "                    \n",
    "                    dict_values[f'{dir_list_selected[i]}- {value2.group(1)}'] = value2.group(2)\n",
    "            if (value3 := re.search(pattern3, line)):\n",
    "                    \n",
    "                    dict_values[f'{dir_list_selected[i]}- {value3.group(1)}'] = value3.group(2)\n",
    "print(dict_values)\n",
    "    \n",
    "            \n",
    "        "
   ]
  }
 ],
 "metadata": {
  "kernelspec": {
   "display_name": "Python 3 (ipykernel)",
   "language": "python",
   "name": "python3"
  },
  "language_info": {
   "codemirror_mode": {
    "name": "ipython",
    "version": 3
   },
   "file_extension": ".py",
   "mimetype": "text/x-python",
   "name": "python",
   "nbconvert_exporter": "python",
   "pygments_lexer": "ipython3",
   "version": "3.11.0"
  }
 },
 "nbformat": 4,
 "nbformat_minor": 5
}
